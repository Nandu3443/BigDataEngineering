{
 "cells": [
  {
   "cell_type": "code",
   "execution_count": 1,
   "id": "daf92f8e",
   "metadata": {},
   "outputs": [],
   "source": [
    "import pandas as pd"
   ]
  },
  {
   "cell_type": "code",
   "execution_count": 2,
   "id": "8f36ad39",
   "metadata": {},
   "outputs": [
    {
     "data": {
      "text/html": [
       "<div>\n",
       "<style scoped>\n",
       "    .dataframe tbody tr th:only-of-type {\n",
       "        vertical-align: middle;\n",
       "    }\n",
       "\n",
       "    .dataframe tbody tr th {\n",
       "        vertical-align: top;\n",
       "    }\n",
       "\n",
       "    .dataframe thead th {\n",
       "        text-align: right;\n",
       "    }\n",
       "</style>\n",
       "<table border=\"1\" class=\"dataframe\">\n",
       "  <thead>\n",
       "    <tr style=\"text-align: right;\">\n",
       "      <th></th>\n",
       "      <th>name</th>\n",
       "      <th>age</th>\n",
       "      <th>city</th>\n",
       "    </tr>\n",
       "  </thead>\n",
       "  <tbody>\n",
       "    <tr>\n",
       "      <th>0</th>\n",
       "      <td>John</td>\n",
       "      <td>28</td>\n",
       "      <td>Newyork</td>\n",
       "    </tr>\n",
       "    <tr>\n",
       "      <th>1</th>\n",
       "      <td>Anna</td>\n",
       "      <td>34</td>\n",
       "      <td>Paris</td>\n",
       "    </tr>\n",
       "    <tr>\n",
       "      <th>2</th>\n",
       "      <td>Peter</td>\n",
       "      <td>29</td>\n",
       "      <td>Berlin</td>\n",
       "    </tr>\n",
       "  </tbody>\n",
       "</table>\n",
       "</div>"
      ],
      "text/plain": [
       "    name  age     city\n",
       "0   John   28  Newyork\n",
       "1   Anna   34    Paris\n",
       "2  Peter   29   Berlin"
      ]
     },
     "execution_count": 2,
     "metadata": {},
     "output_type": "execute_result"
    }
   ],
   "source": [
    "df = pd.DataFrame({\n",
    "    'name':['John', 'Anna','Peter'],\n",
    "    'age':[28,34,29],\n",
    "    'city':['Newyork','Paris','Berlin']\n",
    "})\n",
    "df"
   ]
  },
  {
   "cell_type": "code",
   "execution_count": null,
   "id": "8e4ddbbb",
   "metadata": {},
   "outputs": [],
   "source": [
    "df.to_csv('save.csv',index=False)\n"
   ]
  },
  {
   "cell_type": "code",
   "execution_count": 5,
   "id": "2619c74f",
   "metadata": {},
   "outputs": [
    {
     "name": "stdout",
     "output_type": "stream",
     "text": [
      "Requirement already satisfied: numpy in c:\\users\\hcr867\\appdata\\local\\anaconda3\\envs\\venv\\lib\\site-packages (1.26.4)\n"
     ]
    }
   ],
   "source": [
    "##Numpy\n",
    "!pip install numpy"
   ]
  },
  {
   "cell_type": "code",
   "execution_count": 6,
   "id": "8d1aa0c6",
   "metadata": {},
   "outputs": [],
   "source": [
    "import numpy as np"
   ]
  },
  {
   "cell_type": "code",
   "execution_count": 16,
   "id": "a0f7e01f",
   "metadata": {},
   "outputs": [
    {
     "data": {
      "text/plain": [
       "array([0, 2, 4, 6, 8])"
      ]
     },
     "execution_count": 16,
     "metadata": {},
     "output_type": "execute_result"
    }
   ],
   "source": [
    "#Creating arrays\n",
    "arr = np.array([1,2,3,4,5])\n",
    "type(arr)\n",
    "\n",
    "matrix = np.array([[1,2,3],[4,6,7]])\n",
    "matrix\n",
    "\n",
    "#using creation functions\n",
    "\n",
    "# 3*4 array of zeros\n",
    "np.zeros((3,4))\n",
    "np.ones((3,4))\n",
    "np.eye(5) #(5*5 matrix)\n",
    "np.arange(0,10,2)"
   ]
  },
  {
   "cell_type": "code",
   "execution_count": 28,
   "id": "40ebafe9",
   "metadata": {},
   "outputs": [
    {
     "data": {
      "text/plain": [
       "dtype('<U11')"
      ]
     },
     "execution_count": 28,
     "metadata": {},
     "output_type": "execute_result"
    }
   ],
   "source": [
    "#array attributes\n",
    "\n",
    "arr = np.array([[1,2,3],[4,5,6],[7,8,9]])\n",
    "arr.shape\n",
    "arr.ndim\n",
    "arr.size"
   ]
  },
  {
   "cell_type": "code",
   "execution_count": 32,
   "id": "aefb637c",
   "metadata": {},
   "outputs": [
    {
     "data": {
      "text/plain": [
       "array([[ 1,  2,  3,  4],\n",
       "       [ 5,  6,  7,  8],\n",
       "       [ 9, 10, 11, 12]])"
      ]
     },
     "execution_count": 32,
     "metadata": {},
     "output_type": "execute_result"
    }
   ],
   "source": [
    "#indexing and slicing\n",
    "\n",
    "arr = np.array([[1,2,3,4],[5,6,7,8],[9,10,11,12]])\n",
    "arr\n"
   ]
  },
  {
   "cell_type": "code",
   "execution_count": 38,
   "id": "2a7aadb4",
   "metadata": {},
   "outputs": [
    {
     "data": {
      "text/plain": [
       "array([ 6,  7,  8,  9, 10, 11, 12])"
      ]
     },
     "execution_count": 38,
     "metadata": {},
     "output_type": "execute_result"
    }
   ],
   "source": [
    "arr[1,2]  #element at row 1 and column 2\n",
    "arr[0:2,0:3] # rows 0-1 and columns 0-2\n",
    "arr[:,1]    # all rows, column 1\n",
    "arr[1,:]    # row 1, all columns\n",
    "arr[arr>5] # if elements > 5"
   ]
  },
  {
   "cell_type": "code",
   "execution_count": 59,
   "id": "4ccfa54c",
   "metadata": {},
   "outputs": [
    {
     "name": "stdout",
     "output_type": "stream",
     "text": [
      "[[ 0  1  2  3]\n",
      " [ 4  5  6  7]\n",
      " [ 8  9 10 11]]\n"
     ]
    },
    {
     "data": {
      "text/plain": [
       "[array([[0, 1, 2, 3]]), array([[4, 5, 6, 7]]), array([[ 8,  9, 10, 11]])]"
      ]
     },
     "execution_count": 59,
     "metadata": {},
     "output_type": "execute_result"
    }
   ],
   "source": [
    "#Reshaping and manipulating arrays\n",
    "\n",
    "arr = np.arange(12)\n",
    "arr.shape\n",
    "reshaped = arr.reshape(3,4)\n",
    "reshaped.T\n",
    "reshaped.flatten()\n",
    "\n",
    "\n",
    "#splitting arrays \n",
    "np.split(arr,3)  #splitting into 3 equal parts\n",
    "np.hsplit(arr,2)\n",
    "print(reshaped)\n",
    "np.vsplit(reshaped,3)"
   ]
  },
  {
   "cell_type": "code",
   "execution_count": null,
   "id": "196352ef",
   "metadata": {},
   "outputs": [
    {
     "name": "stdout",
     "output_type": "stream",
     "text": [
      "[[ 1  3  5  7]\n",
      " [ 9 11 13 15]\n",
      " [17 19 21 23]]\n",
      "[[ 1  5  9 13]\n",
      " [17 21 25 29]\n",
      " [33 37 41 45]]\n"
     ]
    },
    {
     "data": {
      "text/plain": [
       "66"
      ]
     },
     "execution_count": 77,
     "metadata": {},
     "output_type": "execute_result"
    }
   ],
   "source": [
    "#mathematical operations\n",
    "arr1 = np.arange(1,24,2).reshape(3,4)\n",
    "arr2 = np.arange(1,48,4).reshape(3,4)\n",
    "\n",
    "print(arr1)\n",
    "print(arr2)\n",
    "\n",
    "arr1 + arr2\n",
    "arr1 - arr2\n",
    "arr1 * arr2\n",
    "arr1 / arr2\n",
    "\n",
    "np.max(arr1)\n",
    "np.min(arr1)\n",
    "np.argmin(arr)\n",
    "np.argmax(arr)\n",
    "np.sum(arr)        # sum one by one horizontally\n",
    "np.sum(arr,axis=0) # sum along column wise"
   ]
  }
 ],
 "metadata": {
  "kernelspec": {
   "display_name": "venv",
   "language": "python",
   "name": "python3"
  },
  "language_info": {
   "codemirror_mode": {
    "name": "ipython",
    "version": 3
   },
   "file_extension": ".py",
   "mimetype": "text/x-python",
   "name": "python",
   "nbconvert_exporter": "python",
   "pygments_lexer": "ipython3",
   "version": "3.10.16"
  }
 },
 "nbformat": 4,
 "nbformat_minor": 5
}
